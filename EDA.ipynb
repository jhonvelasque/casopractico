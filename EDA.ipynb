{
 "cells": [
  {
   "cell_type": "code",
   "execution_count": 30,
   "metadata": {},
   "outputs": [],
   "source": [
    "import pandas as pd\n",
    "import os\n",
    "from pathlib import Path\n",
    "import sqlalchemy\n",
    "from sqlalchemy import create_engine\n",
    "import mysql.connector\n",
    "from datetime import datetime\n"
   ]
  },
  {
   "cell_type": "code",
   "execution_count": 2,
   "metadata": {},
   "outputs": [],
   "source": [
    "#funcion para leer archivos csv  partir de una ruta\n",
    "def get_data(filepath):\n",
    "    #manejando los archivos csv y json\n",
    "    with open(filepath, 'rb') as file:\n",
    "        # Para importar archivos csv, detectando encoding\n",
    "        if Path(filepath).suffix == \".csv\": \n",
    "            df = pd.read_csv(filepath, sep=';')\n",
    "    return df"
   ]
  },
  {
   "cell_type": "code",
   "execution_count": 3,
   "metadata": {},
   "outputs": [],
   "source": [
    "def get_nombre_archivo(filepath):\n",
    "    #leemos el contenido de la ruta \n",
    "    archivos = os.listdir(filepath)\n",
    "    archivos_sin_extension = [os.path.splitext(nombre_archivo)[0] for nombre_archivo in archivos if os.path.splitext(nombre_archivo)[1] in ['.csv','.json'] ]\n",
    "    return archivos_sin_extension"
   ]
  },
  {
   "cell_type": "code",
   "execution_count": 468,
   "metadata": {},
   "outputs": [
    {
     "name": "stdout",
     "output_type": "stream",
     "text": [
      "el nombre de tu variable 1 es : df_transacciones\n",
      "el nombre de tu variable 2 es : df_warehouses\n",
      "el nombre de tu variable 3 es : df_product_category\n",
      "el nombre de tu variable 4 es : df_product_product\n",
      "el nombre de tu variable 5 es : df_product_variant\n"
     ]
    }
   ],
   "source": [
    "#creando  los data framees a partir de los nombres que nos dieron\n",
    "i=1\n",
    "directorio='./data/'\n",
    "\n",
    "for nombre_archivo in get_nombre_archivo(directorio):\n",
    "    locals()['df_'+nombre_archivo[4:]]=get_data(f'{directorio}{nombre_archivo}.csv')\n",
    "    print(f'el nombre de tu variable {i} es :','df_'+nombre_archivo[4:])\n",
    "    i+=1"
   ]
  },
  {
   "cell_type": "code",
   "execution_count": 17,
   "metadata": {},
   "outputs": [],
   "source": [
    "user='root'\n",
    "password='20170094'\n",
    "host='localhost'\n",
    "database='ecommerce'"
   ]
  },
  {
   "cell_type": "code",
   "execution_count": 438,
   "metadata": {},
   "outputs": [],
   "source": [
    "con=create_engine(f\"mysql+mysqlconnector://{user}:{password}@{host}/{database}\")"
   ]
  },
  {
   "cell_type": "code",
   "execution_count": 437,
   "metadata": {},
   "outputs": [],
   "source": [
    "conexion = mysql.connector.connect(\n",
    "   host='localhost',\n",
    "   user='root',\n",
    "   port=3306,\n",
    "   passwd='20170094',\n",
    "   db='ecommerce'\n",
    ")\n",
    "cursor = conexion.cursor()"
   ]
  },
  {
   "cell_type": "code",
   "execution_count": 325,
   "metadata": {},
   "outputs": [
    {
     "data": {
      "text/html": [
       "<div>\n",
       "<style scoped>\n",
       "    .dataframe tbody tr th:only-of-type {\n",
       "        vertical-align: middle;\n",
       "    }\n",
       "\n",
       "    .dataframe tbody tr th {\n",
       "        vertical-align: top;\n",
       "    }\n",
       "\n",
       "    .dataframe thead th {\n",
       "        text-align: right;\n",
       "    }\n",
       "</style>\n",
       "<table border=\"1\" class=\"dataframe\">\n",
       "  <thead>\n",
       "    <tr style=\"text-align: right;\">\n",
       "      <th></th>\n",
       "      <th>id_warehouses</th>\n",
       "      <th>latitude</th>\n",
       "      <th>longitude</th>\n",
       "    </tr>\n",
       "  </thead>\n",
       "  <tbody>\n",
       "    <tr>\n",
       "      <th>0</th>\n",
       "      <td>A</td>\n",
       "      <td>-12.0755</td>\n",
       "      <td>-77.0659</td>\n",
       "    </tr>\n",
       "    <tr>\n",
       "      <th>1</th>\n",
       "      <td>J</td>\n",
       "      <td>-12.0242</td>\n",
       "      <td>-76.9973</td>\n",
       "    </tr>\n",
       "    <tr>\n",
       "      <th>2</th>\n",
       "      <td>G</td>\n",
       "      <td>-12.0445</td>\n",
       "      <td>-76.9373</td>\n",
       "    </tr>\n",
       "    <tr>\n",
       "      <th>3</th>\n",
       "      <td>H</td>\n",
       "      <td>-12.1280</td>\n",
       "      <td>-76.9873</td>\n",
       "    </tr>\n",
       "    <tr>\n",
       "      <th>4</th>\n",
       "      <td>I</td>\n",
       "      <td>-12.1677</td>\n",
       "      <td>-76.9710</td>\n",
       "    </tr>\n",
       "    <tr>\n",
       "      <th>5</th>\n",
       "      <td>K</td>\n",
       "      <td>-12.0678</td>\n",
       "      <td>-76.9381</td>\n",
       "    </tr>\n",
       "    <tr>\n",
       "      <th>6</th>\n",
       "      <td>B</td>\n",
       "      <td>-11.9812</td>\n",
       "      <td>-77.0817</td>\n",
       "    </tr>\n",
       "    <tr>\n",
       "      <th>7</th>\n",
       "      <td>D</td>\n",
       "      <td>-11.9270</td>\n",
       "      <td>-77.0632</td>\n",
       "    </tr>\n",
       "    <tr>\n",
       "      <th>8</th>\n",
       "      <td>L</td>\n",
       "      <td>-12.0242</td>\n",
       "      <td>-76.9142</td>\n",
       "    </tr>\n",
       "    <tr>\n",
       "      <th>9</th>\n",
       "      <td>C</td>\n",
       "      <td>-12.0973</td>\n",
       "      <td>-77.0133</td>\n",
       "    </tr>\n",
       "    <tr>\n",
       "      <th>10</th>\n",
       "      <td>F</td>\n",
       "      <td>-12.1132</td>\n",
       "      <td>-77.0334</td>\n",
       "    </tr>\n",
       "    <tr>\n",
       "      <th>11</th>\n",
       "      <td>E</td>\n",
       "      <td>-12.0563</td>\n",
       "      <td>-77.0972</td>\n",
       "    </tr>\n",
       "  </tbody>\n",
       "</table>\n",
       "</div>"
      ],
      "text/plain": [
       "   id_warehouses  latitude  longitude\n",
       "0              A  -12.0755   -77.0659\n",
       "1              J  -12.0242   -76.9973\n",
       "2              G  -12.0445   -76.9373\n",
       "3              H  -12.1280   -76.9873\n",
       "4              I  -12.1677   -76.9710\n",
       "5              K  -12.0678   -76.9381\n",
       "6              B  -11.9812   -77.0817\n",
       "7              D  -11.9270   -77.0632\n",
       "8              L  -12.0242   -76.9142\n",
       "9              C  -12.0973   -77.0133\n",
       "10             F  -12.1132   -77.0334\n",
       "11             E  -12.0563   -77.0972"
      ]
     },
     "execution_count": 325,
     "metadata": {},
     "output_type": "execute_result"
    }
   ],
   "source": [
    "df_warehouses.rename(columns={'warehouse':'id_warehouses'},inplace=True)\n",
    "df_warehouses"
   ]
  },
  {
   "attachments": {},
   "cell_type": "markdown",
   "metadata": {},
   "source": [
    "### carga de datos df_warehouses"
   ]
  },
  {
   "cell_type": "code",
   "execution_count": null,
   "metadata": {},
   "outputs": [],
   "source": [
    "df_warehouses.to_sql('warehouses', con=con, if_exists='append', index=False)"
   ]
  },
  {
   "attachments": {},
   "cell_type": "markdown",
   "metadata": {},
   "source": [
    "### carga de datos transacciones"
   ]
  },
  {
   "cell_type": "code",
   "execution_count": 412,
   "metadata": {},
   "outputs": [
    {
     "data": {
      "text/html": [
       "<div>\n",
       "<style scoped>\n",
       "    .dataframe tbody tr th:only-of-type {\n",
       "        vertical-align: middle;\n",
       "    }\n",
       "\n",
       "    .dataframe tbody tr th {\n",
       "        vertical-align: top;\n",
       "    }\n",
       "\n",
       "    .dataframe thead th {\n",
       "        text-align: right;\n",
       "    }\n",
       "</style>\n",
       "<table border=\"1\" class=\"dataframe\">\n",
       "  <thead>\n",
       "    <tr style=\"text-align: right;\">\n",
       "      <th></th>\n",
       "      <th>month</th>\n",
       "      <th>created</th>\n",
       "      <th>order_id</th>\n",
       "      <th>warehouse</th>\n",
       "      <th>latitude</th>\n",
       "      <th>longitude</th>\n",
       "      <th>delivery_fee</th>\n",
       "    </tr>\n",
       "  </thead>\n",
       "  <tbody>\n",
       "    <tr>\n",
       "      <th>0</th>\n",
       "      <td>9</td>\n",
       "      <td>2021-09-25 16:43:19.418761</td>\n",
       "      <td>103202</td>\n",
       "      <td>A</td>\n",
       "      <td>-12.057617</td>\n",
       "      <td>-77.045541</td>\n",
       "      <td>0.0</td>\n",
       "    </tr>\n",
       "    <tr>\n",
       "      <th>1</th>\n",
       "      <td>9</td>\n",
       "      <td>2021-09-16 14:04:00.473244</td>\n",
       "      <td>94707</td>\n",
       "      <td>I</td>\n",
       "      <td>-12.208986</td>\n",
       "      <td>-76.939471</td>\n",
       "      <td>0.0</td>\n",
       "    </tr>\n",
       "    <tr>\n",
       "      <th>2</th>\n",
       "      <td>9</td>\n",
       "      <td>2021-09-16 19:14:55.044333</td>\n",
       "      <td>94925</td>\n",
       "      <td>E</td>\n",
       "      <td>-12.086405</td>\n",
       "      <td>-77.094459</td>\n",
       "      <td>0.0</td>\n",
       "    </tr>\n",
       "    <tr>\n",
       "      <th>3</th>\n",
       "      <td>9</td>\n",
       "      <td>2021-09-19 04:13:43.047996</td>\n",
       "      <td>96752</td>\n",
       "      <td>I</td>\n",
       "      <td>-12.233908</td>\n",
       "      <td>-76.936294</td>\n",
       "      <td>0.0</td>\n",
       "    </tr>\n",
       "    <tr>\n",
       "      <th>4</th>\n",
       "      <td>9</td>\n",
       "      <td>2021-09-01 16:51:57.325185</td>\n",
       "      <td>81009</td>\n",
       "      <td>G</td>\n",
       "      <td>-12.061965</td>\n",
       "      <td>-76.937920</td>\n",
       "      <td>0.0</td>\n",
       "    </tr>\n",
       "    <tr>\n",
       "      <th>...</th>\n",
       "      <td>...</td>\n",
       "      <td>...</td>\n",
       "      <td>...</td>\n",
       "      <td>...</td>\n",
       "      <td>...</td>\n",
       "      <td>...</td>\n",
       "      <td>...</td>\n",
       "    </tr>\n",
       "    <tr>\n",
       "      <th>15687</th>\n",
       "      <td>11</td>\n",
       "      <td>2021-11-20 07:13:02.203341</td>\n",
       "      <td>125916</td>\n",
       "      <td>H</td>\n",
       "      <td>-12.098605</td>\n",
       "      <td>-76.996828</td>\n",
       "      <td>4.0</td>\n",
       "    </tr>\n",
       "    <tr>\n",
       "      <th>15688</th>\n",
       "      <td>11</td>\n",
       "      <td>2021-11-07 05:37:49.305218</td>\n",
       "      <td>119128</td>\n",
       "      <td>F</td>\n",
       "      <td>-12.114078</td>\n",
       "      <td>-77.007178</td>\n",
       "      <td>0.0</td>\n",
       "    </tr>\n",
       "    <tr>\n",
       "      <th>15689</th>\n",
       "      <td>11</td>\n",
       "      <td>2021-11-11 02:17:51.447767</td>\n",
       "      <td>120607</td>\n",
       "      <td>A</td>\n",
       "      <td>-12.103490</td>\n",
       "      <td>-77.039591</td>\n",
       "      <td>0.0</td>\n",
       "    </tr>\n",
       "    <tr>\n",
       "      <th>15690</th>\n",
       "      <td>11</td>\n",
       "      <td>2021-11-06 07:40:32.429443</td>\n",
       "      <td>118849</td>\n",
       "      <td>F</td>\n",
       "      <td>-12.111779</td>\n",
       "      <td>-77.039683</td>\n",
       "      <td>0.0</td>\n",
       "    </tr>\n",
       "    <tr>\n",
       "      <th>15691</th>\n",
       "      <td>11</td>\n",
       "      <td>2021-11-26 13:54:43.460251</td>\n",
       "      <td>129543</td>\n",
       "      <td>B</td>\n",
       "      <td>-11.937034</td>\n",
       "      <td>-77.072412</td>\n",
       "      <td>4.0</td>\n",
       "    </tr>\n",
       "  </tbody>\n",
       "</table>\n",
       "<p>15692 rows × 7 columns</p>\n",
       "</div>"
      ],
      "text/plain": [
       "       month                     created  order_id warehouse   latitude   \n",
       "0          9  2021-09-25 16:43:19.418761    103202         A -12.057617  \\\n",
       "1          9  2021-09-16 14:04:00.473244     94707         I -12.208986   \n",
       "2          9  2021-09-16 19:14:55.044333     94925         E -12.086405   \n",
       "3          9  2021-09-19 04:13:43.047996     96752         I -12.233908   \n",
       "4          9  2021-09-01 16:51:57.325185     81009         G -12.061965   \n",
       "...      ...                         ...       ...       ...        ...   \n",
       "15687     11  2021-11-20 07:13:02.203341    125916         H -12.098605   \n",
       "15688     11  2021-11-07 05:37:49.305218    119128         F -12.114078   \n",
       "15689     11  2021-11-11 02:17:51.447767    120607         A -12.103490   \n",
       "15690     11  2021-11-06 07:40:32.429443    118849         F -12.111779   \n",
       "15691     11  2021-11-26 13:54:43.460251    129543         B -11.937034   \n",
       "\n",
       "       longitude  delivery_fee  \n",
       "0     -77.045541           0.0  \n",
       "1     -76.939471           0.0  \n",
       "2     -77.094459           0.0  \n",
       "3     -76.936294           0.0  \n",
       "4     -76.937920           0.0  \n",
       "...          ...           ...  \n",
       "15687 -76.996828           4.0  \n",
       "15688 -77.007178           0.0  \n",
       "15689 -77.039591           0.0  \n",
       "15690 -77.039683           0.0  \n",
       "15691 -77.072412           4.0  \n",
       "\n",
       "[15692 rows x 7 columns]"
      ]
     },
     "execution_count": 412,
     "metadata": {},
     "output_type": "execute_result"
    }
   ],
   "source": [
    "df_transacciones"
   ]
  },
  {
   "cell_type": "code",
   "execution_count": 397,
   "metadata": {},
   "outputs": [
    {
     "data": {
      "text/plain": [
       "'a '"
      ]
     },
     "execution_count": 397,
     "metadata": {},
     "output_type": "execute_result"
    }
   ],
   "source": [
    "'a ,b'.split(',')[0]"
   ]
  },
  {
   "cell_type": "code",
   "execution_count": 413,
   "metadata": {},
   "outputs": [],
   "source": [
    "df_transacciones['warehouse']=df_transacciones['warehouse'].apply(lambda x: str(x).split(',')[0].strip())"
   ]
  },
  {
   "cell_type": "code",
   "execution_count": 417,
   "metadata": {},
   "outputs": [
    {
     "name": "stdout",
     "output_type": "stream",
     "text": [
      "<class 'pandas.core.frame.DataFrame'>\n",
      "RangeIndex: 15692 entries, 0 to 15691\n",
      "Data columns (total 7 columns):\n",
      " #   Column        Non-Null Count  Dtype  \n",
      "---  ------        --------------  -----  \n",
      " 0   month         15692 non-null  int64  \n",
      " 1   created       15692 non-null  object \n",
      " 2   order_id      15692 non-null  int64  \n",
      " 3   warehouse     15692 non-null  object \n",
      " 4   latitude      15692 non-null  float64\n",
      " 5   longitude     15692 non-null  float64\n",
      " 6   delivery_fee  15692 non-null  float64\n",
      "dtypes: float64(3), int64(2), object(2)\n",
      "memory usage: 858.3+ KB\n"
     ]
    }
   ],
   "source": [
    "df_transacciones"
   ]
  },
  {
   "cell_type": "code",
   "execution_count": 418,
   "metadata": {},
   "outputs": [],
   "source": [
    "df_transacciones=df_transacciones.reset_index()"
   ]
  },
  {
   "cell_type": "code",
   "execution_count": 419,
   "metadata": {},
   "outputs": [],
   "source": [
    "df_transacciones.rename(columns={'index':'id_transacciones','warehouse':'id_warehouses'},inplace=True)"
   ]
  },
  {
   "cell_type": "code",
   "execution_count": 421,
   "metadata": {},
   "outputs": [
    {
     "name": "stdout",
     "output_type": "stream",
     "text": [
      "<class 'pandas.core.frame.DataFrame'>\n",
      "RangeIndex: 15692 entries, 0 to 15691\n",
      "Data columns (total 8 columns):\n",
      " #   Column            Non-Null Count  Dtype  \n",
      "---  ------            --------------  -----  \n",
      " 0   id_transacciones  15692 non-null  int64  \n",
      " 1   month             15692 non-null  int64  \n",
      " 2   created           15692 non-null  object \n",
      " 3   order_id          15692 non-null  int64  \n",
      " 4   id_warehouses     15692 non-null  object \n",
      " 5   latitude          15692 non-null  float64\n",
      " 6   longitude         15692 non-null  float64\n",
      " 7   delivery_fee      15692 non-null  float64\n",
      "dtypes: float64(3), int64(3), object(2)\n",
      "memory usage: 980.9+ KB\n"
     ]
    }
   ],
   "source": [
    "df_transacciones.info()"
   ]
  },
  {
   "cell_type": "code",
   "execution_count": 422,
   "metadata": {},
   "outputs": [
    {
     "data": {
      "text/plain": [
       "array(['A', 'I', 'E', 'G', 'H', 'F', 'K', 'C', 'D', 'J', 'B', 'L', 'nan'],\n",
       "      dtype=object)"
      ]
     },
     "execution_count": 422,
     "metadata": {},
     "output_type": "execute_result"
    }
   ],
   "source": [
    "df_transacciones.id_warehouses.unique()"
   ]
  },
  {
   "cell_type": "code",
   "execution_count": 423,
   "metadata": {},
   "outputs": [
    {
     "name": "stdout",
     "output_type": "stream",
     "text": [
      "<class 'pandas.core.frame.DataFrame'>\n",
      "RangeIndex: 15692 entries, 0 to 15691\n",
      "Data columns (total 8 columns):\n",
      " #   Column            Non-Null Count  Dtype  \n",
      "---  ------            --------------  -----  \n",
      " 0   id_transacciones  15692 non-null  int64  \n",
      " 1   month             15692 non-null  int64  \n",
      " 2   created           15692 non-null  object \n",
      " 3   order_id          15692 non-null  int64  \n",
      " 4   id_warehouses     15692 non-null  object \n",
      " 5   latitude          15692 non-null  float64\n",
      " 6   longitude         15692 non-null  float64\n",
      " 7   delivery_fee      15692 non-null  float64\n",
      "dtypes: float64(3), int64(3), object(2)\n",
      "memory usage: 980.9+ KB\n"
     ]
    }
   ],
   "source": [
    "df_transacciones.info()"
   ]
  },
  {
   "cell_type": "code",
   "execution_count": 487,
   "metadata": {},
   "outputs": [
    {
     "name": "stdout",
     "output_type": "stream",
     "text": [
      "<class 'pandas.core.frame.DataFrame'>\n",
      "RangeIndex: 15696 entries, 0 to 15695\n",
      "Data columns (total 8 columns):\n",
      " #   Column            Non-Null Count  Dtype  \n",
      "---  ------            --------------  -----  \n",
      " 0   id_transacciones  15696 non-null  int64  \n",
      " 1   month             15696 non-null  int64  \n",
      " 2   created           15696 non-null  object \n",
      " 3   order_id          15696 non-null  int64  \n",
      " 4   id_warehouses     15694 non-null  object \n",
      " 5   latitude          15696 non-null  float64\n",
      " 6   longitude         15696 non-null  float64\n",
      " 7   delivery_fee      15696 non-null  float64\n",
      "dtypes: float64(3), int64(3), object(2)\n",
      "memory usage: 981.1+ KB\n"
     ]
    }
   ],
   "source": [
    "df_transacciones.info()"
   ]
  },
  {
   "cell_type": "code",
   "execution_count": null,
   "metadata": {},
   "outputs": [],
   "source": [
    "df_transacciones.to_sql('transacciones', con=con, if_exists='append', index=False)"
   ]
  },
  {
   "attachments": {},
   "cell_type": "markdown",
   "metadata": {},
   "source": [
    "### Implementacion de algoritmo que permite normalizar la data si este tiene diferentes almacenes de partida"
   ]
  },
  {
   "cell_type": "code",
   "execution_count": 469,
   "metadata": {},
   "outputs": [],
   "source": [
    "df_transacciones.rename(columns={'warehouse':'id_warehouses'},inplace=True)"
   ]
  },
  {
   "cell_type": "code",
   "execution_count": 470,
   "metadata": {},
   "outputs": [
    {
     "data": {
      "text/plain": [
       "array(['A', 'I', 'E', 'G', 'H', 'F', 'K', 'C', 'D', 'J', 'B', 'L', 'A,E',\n",
       "       'F,H', nan], dtype=object)"
      ]
     },
     "execution_count": 470,
     "metadata": {},
     "output_type": "execute_result"
    }
   ],
   "source": [
    "df_transacciones.id_warehouses.unique()"
   ]
  },
  {
   "cell_type": "code",
   "execution_count": 471,
   "metadata": {},
   "outputs": [],
   "source": [
    "demo=df_transacciones[df_transacciones.id_warehouses.isin(['A,E','F,H'])].copy()"
   ]
  },
  {
   "cell_type": "code",
   "execution_count": 472,
   "metadata": {},
   "outputs": [
    {
     "name": "stdout",
     "output_type": "stream",
     "text": [
      "<class 'pandas.core.frame.DataFrame'>\n",
      "Index: 4 entries, 6555 to 14439\n",
      "Data columns (total 7 columns):\n",
      " #   Column         Non-Null Count  Dtype  \n",
      "---  ------         --------------  -----  \n",
      " 0   month          4 non-null      int64  \n",
      " 1   created        4 non-null      object \n",
      " 2   order_id       4 non-null      int64  \n",
      " 3   id_warehouses  4 non-null      object \n",
      " 4   latitude       4 non-null      float64\n",
      " 5   longitude      4 non-null      float64\n",
      " 6   delivery_fee   4 non-null      float64\n",
      "dtypes: float64(3), int64(2), object(2)\n",
      "memory usage: 256.0+ bytes\n"
     ]
    }
   ],
   "source": [
    "demo.info()"
   ]
  },
  {
   "cell_type": "code",
   "execution_count": 473,
   "metadata": {},
   "outputs": [],
   "source": [
    "def normalizacion_data(data):\n",
    "    df_normalizado = data.drop(data.index)\n",
    "    for idx in data.index:\n",
    "        df = demo.loc[idx, :]\n",
    "        warehouses = df.id_warehouses.split(',')\n",
    "        for info in range(len(warehouses)):\n",
    "            aux = df.copy()\n",
    "            aux=aux.to_frame().T\n",
    "            aux['id_warehouses'] = str(warehouses[info])\n",
    "            aux=pd.DataFrame(aux)\n",
    "            df_normalizado=pd.concat([df_normalizado,aux], ignore_index=True)\n",
    "    return df_normalizado\n"
   ]
  },
  {
   "cell_type": "code",
   "execution_count": 474,
   "metadata": {},
   "outputs": [],
   "source": [
    "demo=normalizacion_data(demo)"
   ]
  },
  {
   "cell_type": "code",
   "execution_count": 475,
   "metadata": {},
   "outputs": [
    {
     "name": "stdout",
     "output_type": "stream",
     "text": [
      "month              int64\n",
      "created           object\n",
      "order_id           int64\n",
      "id_warehouses     object\n",
      "latitude         float64\n",
      "longitude        float64\n",
      "delivery_fee     float64\n",
      "dtype: object\n"
     ]
    }
   ],
   "source": [
    "# Convertir columnas a tipos de datos deseados\n",
    "demo['month'] = pd.to_numeric(demo['month'], errors='coerce')\n",
    "demo['order_id'] = pd.to_numeric(demo['order_id'], errors='coerce')\n",
    "demo['latitude'] = pd.to_numeric(demo['latitude'], errors='coerce')\n",
    "demo['longitude'] = pd.to_numeric(demo['longitude'], errors='coerce')\n",
    "demo['delivery_fee'] = pd.to_numeric(demo['delivery_fee'], errors='coerce')\n",
    "\n",
    "print(demo.dtypes)"
   ]
  },
  {
   "cell_type": "code",
   "execution_count": 476,
   "metadata": {},
   "outputs": [
    {
     "data": {
      "text/html": [
       "<div>\n",
       "<style scoped>\n",
       "    .dataframe tbody tr th:only-of-type {\n",
       "        vertical-align: middle;\n",
       "    }\n",
       "\n",
       "    .dataframe tbody tr th {\n",
       "        vertical-align: top;\n",
       "    }\n",
       "\n",
       "    .dataframe thead th {\n",
       "        text-align: right;\n",
       "    }\n",
       "</style>\n",
       "<table border=\"1\" class=\"dataframe\">\n",
       "  <thead>\n",
       "    <tr style=\"text-align: right;\">\n",
       "      <th></th>\n",
       "      <th>month</th>\n",
       "      <th>created</th>\n",
       "      <th>order_id</th>\n",
       "      <th>id_warehouses</th>\n",
       "      <th>latitude</th>\n",
       "      <th>longitude</th>\n",
       "      <th>delivery_fee</th>\n",
       "    </tr>\n",
       "  </thead>\n",
       "  <tbody>\n",
       "    <tr>\n",
       "      <th>0</th>\n",
       "      <td>9</td>\n",
       "      <td>2021-09-01 13:27:32.540497</td>\n",
       "      <td>80869</td>\n",
       "      <td>A</td>\n",
       "      <td>-12.062288</td>\n",
       "      <td>-77.094423</td>\n",
       "      <td>0.0</td>\n",
       "    </tr>\n",
       "    <tr>\n",
       "      <th>1</th>\n",
       "      <td>9</td>\n",
       "      <td>2021-09-01 13:27:32.540497</td>\n",
       "      <td>80869</td>\n",
       "      <td>E</td>\n",
       "      <td>-12.062288</td>\n",
       "      <td>-77.094423</td>\n",
       "      <td>0.0</td>\n",
       "    </tr>\n",
       "    <tr>\n",
       "      <th>2</th>\n",
       "      <td>10</td>\n",
       "      <td>2021-10-18 11:22:30.818788</td>\n",
       "      <td>112259</td>\n",
       "      <td>F</td>\n",
       "      <td>-12.136385</td>\n",
       "      <td>-77.001616</td>\n",
       "      <td>6.0</td>\n",
       "    </tr>\n",
       "    <tr>\n",
       "      <th>3</th>\n",
       "      <td>10</td>\n",
       "      <td>2021-10-18 11:22:30.818788</td>\n",
       "      <td>112259</td>\n",
       "      <td>H</td>\n",
       "      <td>-12.136385</td>\n",
       "      <td>-77.001616</td>\n",
       "      <td>6.0</td>\n",
       "    </tr>\n",
       "    <tr>\n",
       "      <th>4</th>\n",
       "      <td>10</td>\n",
       "      <td>2021-10-30 12:12:49.456198</td>\n",
       "      <td>116939</td>\n",
       "      <td>F</td>\n",
       "      <td>-12.068146</td>\n",
       "      <td>-77.018158</td>\n",
       "      <td>0.0</td>\n",
       "    </tr>\n",
       "    <tr>\n",
       "      <th>5</th>\n",
       "      <td>10</td>\n",
       "      <td>2021-10-30 12:12:49.456198</td>\n",
       "      <td>116939</td>\n",
       "      <td>H</td>\n",
       "      <td>-12.068146</td>\n",
       "      <td>-77.018158</td>\n",
       "      <td>0.0</td>\n",
       "    </tr>\n",
       "    <tr>\n",
       "      <th>6</th>\n",
       "      <td>11</td>\n",
       "      <td>2021-11-30 12:24:37.18634</td>\n",
       "      <td>132429</td>\n",
       "      <td>A</td>\n",
       "      <td>-12.075654</td>\n",
       "      <td>-77.074720</td>\n",
       "      <td>0.0</td>\n",
       "    </tr>\n",
       "    <tr>\n",
       "      <th>7</th>\n",
       "      <td>11</td>\n",
       "      <td>2021-11-30 12:24:37.18634</td>\n",
       "      <td>132429</td>\n",
       "      <td>E</td>\n",
       "      <td>-12.075654</td>\n",
       "      <td>-77.074720</td>\n",
       "      <td>0.0</td>\n",
       "    </tr>\n",
       "  </tbody>\n",
       "</table>\n",
       "</div>"
      ],
      "text/plain": [
       "   month                     created  order_id id_warehouses   latitude   \n",
       "0      9  2021-09-01 13:27:32.540497     80869             A -12.062288  \\\n",
       "1      9  2021-09-01 13:27:32.540497     80869             E -12.062288   \n",
       "2     10  2021-10-18 11:22:30.818788    112259             F -12.136385   \n",
       "3     10  2021-10-18 11:22:30.818788    112259             H -12.136385   \n",
       "4     10  2021-10-30 12:12:49.456198    116939             F -12.068146   \n",
       "5     10  2021-10-30 12:12:49.456198    116939             H -12.068146   \n",
       "6     11   2021-11-30 12:24:37.18634    132429             A -12.075654   \n",
       "7     11   2021-11-30 12:24:37.18634    132429             E -12.075654   \n",
       "\n",
       "   longitude  delivery_fee  \n",
       "0 -77.094423           0.0  \n",
       "1 -77.094423           0.0  \n",
       "2 -77.001616           6.0  \n",
       "3 -77.001616           6.0  \n",
       "4 -77.018158           0.0  \n",
       "5 -77.018158           0.0  \n",
       "6 -77.074720           0.0  \n",
       "7 -77.074720           0.0  "
      ]
     },
     "execution_count": 476,
     "metadata": {},
     "output_type": "execute_result"
    }
   ],
   "source": [
    "demo"
   ]
  },
  {
   "cell_type": "code",
   "execution_count": 477,
   "metadata": {},
   "outputs": [],
   "source": [
    "df_transacciones.drop(index=df_transacciones.loc[df_transacciones['id_warehouses'].isin(['A,E','F,H'])].index, inplace=True)"
   ]
  },
  {
   "cell_type": "code",
   "execution_count": 478,
   "metadata": {},
   "outputs": [],
   "source": [
    "df_transacciones=pd.concat([df_transacciones,demo], ignore_index=True)"
   ]
  },
  {
   "cell_type": "code",
   "execution_count": 479,
   "metadata": {},
   "outputs": [],
   "source": [
    "df_transacciones.reset_index(inplace=True)"
   ]
  },
  {
   "cell_type": "code",
   "execution_count": 480,
   "metadata": {},
   "outputs": [],
   "source": [
    "df_transacciones.rename(columns={'index':'id_transacciones'},inplace=True)"
   ]
  },
  {
   "cell_type": "code",
   "execution_count": 481,
   "metadata": {},
   "outputs": [
    {
     "name": "stdout",
     "output_type": "stream",
     "text": [
      "<class 'pandas.core.frame.DataFrame'>\n",
      "RangeIndex: 15696 entries, 0 to 15695\n",
      "Data columns (total 8 columns):\n",
      " #   Column            Non-Null Count  Dtype  \n",
      "---  ------            --------------  -----  \n",
      " 0   id_transacciones  15696 non-null  int64  \n",
      " 1   month             15696 non-null  int64  \n",
      " 2   created           15696 non-null  object \n",
      " 3   order_id          15696 non-null  int64  \n",
      " 4   id_warehouses     15694 non-null  object \n",
      " 5   latitude          15696 non-null  float64\n",
      " 6   longitude         15696 non-null  float64\n",
      " 7   delivery_fee      15696 non-null  float64\n",
      "dtypes: float64(3), int64(3), object(2)\n",
      "memory usage: 981.1+ KB\n"
     ]
    }
   ],
   "source": [
    "df_transacciones.info()"
   ]
  },
  {
   "cell_type": "code",
   "execution_count": 482,
   "metadata": {},
   "outputs": [
    {
     "data": {
      "text/html": [
       "<div>\n",
       "<style scoped>\n",
       "    .dataframe tbody tr th:only-of-type {\n",
       "        vertical-align: middle;\n",
       "    }\n",
       "\n",
       "    .dataframe tbody tr th {\n",
       "        vertical-align: top;\n",
       "    }\n",
       "\n",
       "    .dataframe thead th {\n",
       "        text-align: right;\n",
       "    }\n",
       "</style>\n",
       "<table border=\"1\" class=\"dataframe\">\n",
       "  <thead>\n",
       "    <tr style=\"text-align: right;\">\n",
       "      <th></th>\n",
       "      <th>id_transacciones</th>\n",
       "      <th>month</th>\n",
       "      <th>created</th>\n",
       "      <th>order_id</th>\n",
       "      <th>id_warehouses</th>\n",
       "      <th>latitude</th>\n",
       "      <th>longitude</th>\n",
       "      <th>delivery_fee</th>\n",
       "    </tr>\n",
       "  </thead>\n",
       "  <tbody>\n",
       "    <tr>\n",
       "      <th>0</th>\n",
       "      <td>0</td>\n",
       "      <td>9</td>\n",
       "      <td>2021-09-25 16:43:19.418761</td>\n",
       "      <td>103202</td>\n",
       "      <td>A</td>\n",
       "      <td>-12.057617</td>\n",
       "      <td>-77.045541</td>\n",
       "      <td>0.0</td>\n",
       "    </tr>\n",
       "    <tr>\n",
       "      <th>1</th>\n",
       "      <td>1</td>\n",
       "      <td>9</td>\n",
       "      <td>2021-09-16 14:04:00.473244</td>\n",
       "      <td>94707</td>\n",
       "      <td>I</td>\n",
       "      <td>-12.208986</td>\n",
       "      <td>-76.939471</td>\n",
       "      <td>0.0</td>\n",
       "    </tr>\n",
       "    <tr>\n",
       "      <th>2</th>\n",
       "      <td>2</td>\n",
       "      <td>9</td>\n",
       "      <td>2021-09-16 19:14:55.044333</td>\n",
       "      <td>94925</td>\n",
       "      <td>E</td>\n",
       "      <td>-12.086405</td>\n",
       "      <td>-77.094459</td>\n",
       "      <td>0.0</td>\n",
       "    </tr>\n",
       "    <tr>\n",
       "      <th>3</th>\n",
       "      <td>3</td>\n",
       "      <td>9</td>\n",
       "      <td>2021-09-19 04:13:43.047996</td>\n",
       "      <td>96752</td>\n",
       "      <td>I</td>\n",
       "      <td>-12.233908</td>\n",
       "      <td>-76.936294</td>\n",
       "      <td>0.0</td>\n",
       "    </tr>\n",
       "    <tr>\n",
       "      <th>4</th>\n",
       "      <td>4</td>\n",
       "      <td>9</td>\n",
       "      <td>2021-09-01 16:51:57.325185</td>\n",
       "      <td>81009</td>\n",
       "      <td>G</td>\n",
       "      <td>-12.061965</td>\n",
       "      <td>-76.937920</td>\n",
       "      <td>0.0</td>\n",
       "    </tr>\n",
       "  </tbody>\n",
       "</table>\n",
       "</div>"
      ],
      "text/plain": [
       "   id_transacciones  month                     created  order_id   \n",
       "0                 0      9  2021-09-25 16:43:19.418761    103202  \\\n",
       "1                 1      9  2021-09-16 14:04:00.473244     94707   \n",
       "2                 2      9  2021-09-16 19:14:55.044333     94925   \n",
       "3                 3      9  2021-09-19 04:13:43.047996     96752   \n",
       "4                 4      9  2021-09-01 16:51:57.325185     81009   \n",
       "\n",
       "  id_warehouses   latitude  longitude  delivery_fee  \n",
       "0             A -12.057617 -77.045541           0.0  \n",
       "1             I -12.208986 -76.939471           0.0  \n",
       "2             E -12.086405 -77.094459           0.0  \n",
       "3             I -12.233908 -76.936294           0.0  \n",
       "4             G -12.061965 -76.937920           0.0  "
      ]
     },
     "execution_count": 482,
     "metadata": {},
     "output_type": "execute_result"
    }
   ],
   "source": [
    "df_transacciones.head()"
   ]
  },
  {
   "cell_type": "code",
   "execution_count": 483,
   "metadata": {},
   "outputs": [
    {
     "data": {
      "text/plain": [
       "15696"
      ]
     },
     "execution_count": 483,
     "metadata": {},
     "output_type": "execute_result"
    }
   ],
   "source": [
    "df_transacciones.to_sql('transacciones', con=con, if_exists='append', index=False)"
   ]
  },
  {
   "cell_type": "code",
   "execution_count": 45,
   "metadata": {},
   "outputs": [],
   "source": [
    "def tranformacion_fecha(fecha):\n",
    "    fecha = datetime.strptime(fecha, '%Y-%m-%d %H:%M:%S.%f')\n",
    "    new_format = \"%Y-%m-%d\"\n",
    "    fecha = fecha.strftime(new_format)\n",
    "    return fecha"
   ]
  },
  {
   "cell_type": "code",
   "execution_count": 46,
   "metadata": {},
   "outputs": [],
   "source": [
    "date='2021-09-25 16:43:19.418761'\t"
   ]
  },
  {
   "cell_type": "code",
   "execution_count": 496,
   "metadata": {},
   "outputs": [],
   "source": [
    "# Graficar en mapa con latitud y longitud\n",
    "import geopandas as gpd                     \n",
    "from geopandas import GeoDataFrame\n",
    "from shapely.geometry import Point\n",
    "import matplotlib.colors as colors\n",
    "import seaborn as sns\n",
    "import matplotlib.pyplot as plt\n",
    "sns.set_style(\"darkgrid\")"
   ]
  },
  {
   "cell_type": "code",
   "execution_count": 530,
   "metadata": {},
   "outputs": [],
   "source": [
    "dt_ini_con=pd.read_csv('./data/ej1_warehouses.csv',sep=';')"
   ]
  },
  {
   "cell_type": "code",
   "execution_count": 500,
   "metadata": {},
   "outputs": [
    {
     "data": {
      "text/html": [
       "<div>\n",
       "<style scoped>\n",
       "    .dataframe tbody tr th:only-of-type {\n",
       "        vertical-align: middle;\n",
       "    }\n",
       "\n",
       "    .dataframe tbody tr th {\n",
       "        vertical-align: top;\n",
       "    }\n",
       "\n",
       "    .dataframe thead th {\n",
       "        text-align: right;\n",
       "    }\n",
       "</style>\n",
       "<table border=\"1\" class=\"dataframe\">\n",
       "  <thead>\n",
       "    <tr style=\"text-align: right;\">\n",
       "      <th></th>\n",
       "      <th>warehouse</th>\n",
       "      <th>latitude</th>\n",
       "      <th>longitude</th>\n",
       "    </tr>\n",
       "  </thead>\n",
       "  <tbody>\n",
       "    <tr>\n",
       "      <th>0</th>\n",
       "      <td>A</td>\n",
       "      <td>-12.0755</td>\n",
       "      <td>-77.0659</td>\n",
       "    </tr>\n",
       "    <tr>\n",
       "      <th>1</th>\n",
       "      <td>J</td>\n",
       "      <td>-12.0242</td>\n",
       "      <td>-76.9973</td>\n",
       "    </tr>\n",
       "    <tr>\n",
       "      <th>2</th>\n",
       "      <td>G</td>\n",
       "      <td>-12.0445</td>\n",
       "      <td>-76.9373</td>\n",
       "    </tr>\n",
       "    <tr>\n",
       "      <th>3</th>\n",
       "      <td>H</td>\n",
       "      <td>-12.1280</td>\n",
       "      <td>-76.9873</td>\n",
       "    </tr>\n",
       "    <tr>\n",
       "      <th>4</th>\n",
       "      <td>I</td>\n",
       "      <td>-12.1677</td>\n",
       "      <td>-76.9710</td>\n",
       "    </tr>\n",
       "    <tr>\n",
       "      <th>5</th>\n",
       "      <td>K</td>\n",
       "      <td>-12.0678</td>\n",
       "      <td>-76.9381</td>\n",
       "    </tr>\n",
       "    <tr>\n",
       "      <th>6</th>\n",
       "      <td>B</td>\n",
       "      <td>-11.9812</td>\n",
       "      <td>-77.0817</td>\n",
       "    </tr>\n",
       "    <tr>\n",
       "      <th>7</th>\n",
       "      <td>D</td>\n",
       "      <td>-11.9270</td>\n",
       "      <td>-77.0632</td>\n",
       "    </tr>\n",
       "    <tr>\n",
       "      <th>8</th>\n",
       "      <td>L</td>\n",
       "      <td>-12.0242</td>\n",
       "      <td>-76.9142</td>\n",
       "    </tr>\n",
       "    <tr>\n",
       "      <th>9</th>\n",
       "      <td>C</td>\n",
       "      <td>-12.0973</td>\n",
       "      <td>-77.0133</td>\n",
       "    </tr>\n",
       "    <tr>\n",
       "      <th>10</th>\n",
       "      <td>F</td>\n",
       "      <td>-12.1132</td>\n",
       "      <td>-77.0334</td>\n",
       "    </tr>\n",
       "    <tr>\n",
       "      <th>11</th>\n",
       "      <td>E</td>\n",
       "      <td>-12.0563</td>\n",
       "      <td>-77.0972</td>\n",
       "    </tr>\n",
       "  </tbody>\n",
       "</table>\n",
       "</div>"
      ],
      "text/plain": [
       "   warehouse  latitude  longitude\n",
       "0          A  -12.0755   -77.0659\n",
       "1          J  -12.0242   -76.9973\n",
       "2          G  -12.0445   -76.9373\n",
       "3          H  -12.1280   -76.9873\n",
       "4          I  -12.1677   -76.9710\n",
       "5          K  -12.0678   -76.9381\n",
       "6          B  -11.9812   -77.0817\n",
       "7          D  -11.9270   -77.0632\n",
       "8          L  -12.0242   -76.9142\n",
       "9          C  -12.0973   -77.0133\n",
       "10         F  -12.1132   -77.0334\n",
       "11         E  -12.0563   -77.0972"
      ]
     },
     "execution_count": 500,
     "metadata": {},
     "output_type": "execute_result"
    }
   ],
   "source": [
    "dt_ini_con"
   ]
  },
  {
   "cell_type": "code",
   "execution_count": 531,
   "metadata": {},
   "outputs": [
    {
     "name": "stderr",
     "output_type": "stream",
     "text": [
      "C:\\Users\\carlo\\AppData\\Local\\Temp\\ipykernel_10568\\2356630948.py:6: FutureWarning: The geopandas.dataset module is deprecated and will be removed in GeoPandas 1.0. You can get the original 'naturalearth_lowres' data from https://www.naturalearthdata.com/downloads/110m-cultural-vectors/.\n",
      "  world = gpd.read_file(gpd.datasets.get_path('naturalearth_lowres'))\n"
     ]
    },
    {
     "data": {
      "image/png": "[encoded data removed]",
      "text/plain": [
       "<Figure size 1200x1000 with 1 Axes>"
      ]
     },
     "metadata": {},
     "output_type": "display_data"
    }
   ],
   "source": [
    "import geopandas as gpd\n",
    "from shapely.geometry import Point\n",
    "import matplotlib.pyplot as plt\n",
    "\n",
    "# Cargamos el mapa mundial\n",
    "world = gpd.read_file(gpd.datasets.get_path('naturalearth_lowres'))\n",
    "\n",
    "# Filtramos para obtener el mapa de Perú\n",
    "peru = world[world['name'] == 'Peru']\n",
    "\n",
    "# Creamos el objeto GeoDataFrame\n",
    "crs = 'EPSG:4326'\n",
    "geometry = [Point(xy) for xy in zip(dt_ini_con['longitude'], dt_ini_con['latitude'])]\n",
    "geo_df = gpd.GeoDataFrame(dt_ini_con, crs=crs, geometry=geometry)\n",
    "\n",
    "# Por magnitud\n",
    "fig, ax = plt.subplots(figsize=(12, 10))\n",
    "\n",
    "peru.plot(ax=ax, color='lightgrey')\n",
    "\n",
    "geo_df.plot(ax=ax, cmap='rainbow', legend=True, legend_kwds={'shrink': 0.3},\n",
    "            markersize=5, alpha=0.5)\n",
    "\n",
    "ax.set_title('Sismos por magnitud')\n",
    "plt.show()\n"
   ]
  },
  {
   "cell_type": "code",
   "execution_count": 529,
   "metadata": {},
   "outputs": [
    {
     "name": "stderr",
     "output_type": "stream",
     "text": [
      "C:\\Users\\carlo\\AppData\\Local\\Temp\\ipykernel_10568\\991550805.py:6: FutureWarning: The geopandas.dataset module is deprecated and will be removed in GeoPandas 1.0. You can get the original 'naturalearth_lowres' data from https://www.naturalearthdata.com/downloads/110m-cultural-vectors/.\n",
      "  world = gpd.read_file(gpd.datasets.get_path('naturalearth_lowres'))\n"
     ]
    },
    {
     "data": {
      "image/png": "[encoded data removed]",
      "text/plain": [
       "<Figure size 1500x1500 with 2 Axes>"
      ]
     },
     "metadata": {},
     "output_type": "display_data"
    }
   ],
   "source": [
    "import geopandas as gpd\n",
    "from shapely.geometry import Point\n",
    "import matplotlib.pyplot as plt\n",
    "\n",
    "# Cargamos el mapa mundial\n",
    "world = gpd.read_file(gpd.datasets.get_path('naturalearth_lowres'))\n",
    "\n",
    "# Filtramos para obtener el mapa de Perú\n",
    "peru = world[world['name'] == 'Peru']\n",
    "\n",
    "# Creamos el objeto GeoDataFrame\n",
    "crs = 'EPSG:4326'\n",
    "geometry = [Point(xy) for xy in zip(dt_ini_con['longitude'], dt_ini_con['latitude'])]\n",
    "geo_df = gpd.GeoDataFrame(dt_ini_con, crs=crs, geometry=geometry)\n",
    "\n",
    "# Por magnitud\n",
    "fig, ax = plt.subplots(figsize=(15,15))\n",
    "\n",
    "peru.plot(ax=ax, color='lightgrey')\n",
    "\n",
    "geo_df.plot(column = 'delivery_fee',ax=ax, cmap='rainbow', legend=True, legend_kwds={'shrink': 0.2},\n",
    "            markersize=10, alpha=0.5)\n",
    "\n",
    "ax.set_title('Sismos por magnitud')\n",
    "plt.show()"
   ]
  }
 ],
 "metadata": {
  "kernelspec": {
   "display_name": "envtest",
   "language": "python",
   "name": "python3"
  },
  "language_info": {
   "codemirror_mode": {
    "name": "ipython",
    "version": 3
   },
   "file_extension": ".py",
   "mimetype": "text/x-python",
   "name": "python",
   "nbconvert_exporter": "python",
   "pygments_lexer": "ipython3",
   "version": "3.9.13"
  },
  "orig_nbformat": 4
 },
 "nbformat": 4,
 "nbformat_minor": 2
}
